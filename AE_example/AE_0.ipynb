{
 "cells": [
  {
   "cell_type": "code",
   "execution_count": 4,
   "metadata": {},
   "outputs": [],
   "source": [
    "import requests\n",
    "from bs4 import BeautifulSoup\n",
    "import json\n",
    "import pandas as pd\n",
    "import pickle, gzip\n",
    "from pandas_datareader import DataReader\n",
    "from urllib.parse import quote\n",
    "from datetime import datetime"
   ]
  },
  {
   "cell_type": "code",
   "execution_count": 5,
   "metadata": {
    "collapsed": true
   },
   "outputs": [],
   "source": [
    "def get_sector(code):\n",
    "    url = 'http://finance.naver.com/item/main.nhn?code=' + code\n",
    "    r = requests.get(url)\n",
    "    soup = BeautifulSoup(r.text, 'lxml')\n",
    "\n",
    "    sector = \"\"\n",
    "    h4 = soup.find('h4', {'class':'h_sub sub_tit7'})\n",
    "\n",
    "    if h4 is not None:\n",
    "        sector = h4.a.text\n",
    "    return sector"
   ]
  },
  {
   "cell_type": "code",
   "execution_count": 6,
   "metadata": {
    "collapsed": true
   },
   "outputs": [],
   "source": [
    "def get_kospi200_list():\n",
    "    stock_list = []\n",
    "\n",
    "    for c in range(1,21):\n",
    "        rank = 0;\n",
    "        url = 'http://finance.naver.com/sise/entryJongmok.nhn?page=' + (str)(c)\n",
    "        r = requests.get(url)\n",
    "        soup = BeautifulSoup(r.text, 'lxml')\n",
    "        table = soup.find(\"table\", {\"class\":\"type_1\"})\n",
    "        rows = table.find_all('tr')\n",
    "        for row in rows:\n",
    "            stock = {}\n",
    "            get_stock = row.find_all('td', {'class':'ctg'})\n",
    "            if len(get_stock) != 0:\n",
    "                rank += 1\n",
    "                stock['rank'] = (c-1)*10 + rank\n",
    "                stock['name'] = get_stock[0].text\n",
    "                stock['code'] = get_stock[0].find('a').get('href').split('=')[1]\n",
    "\n",
    "            get_stock_amount = row.find_all('td', {'class':'number_2'})\n",
    "            if len(get_stock_amount) != 0:\n",
    "                stock['total_amount_of_market_price'] = get_stock_amount[3].text\n",
    "            if len(get_stock) != 0:\n",
    "                stock['sector'] = get_sector(stock['code'])\n",
    "                stock_list.append(stock)\n",
    "\n",
    "    return stock_list"
   ]
  },
  {
   "cell_type": "code",
   "execution_count": 7,
   "metadata": {
    "collapsed": true
   },
   "outputs": [],
   "source": [
    "code_list = get_kospi200_list()\n",
    "\n",
    "def get_codes(c_list):\n",
    "    l = list()\n",
    "    for c in c_list:\n",
    "        l.append(c[\"code\"]+\".KS\")\n",
    "    \n",
    "    return l\n",
    "\n",
    "G_code_list = get_codes(code_list)\n"
   ]
  },
  {
   "cell_type": "code",
   "execution_count": 10,
   "metadata": {
    "collapsed": true
   },
   "outputs": [],
   "source": [
    "def get_historical_data(code):\n",
    "    df = []\n",
    "    try:\n",
    "        df = DataReader(code, \"yahoo\")\n",
    "    except:\n",
    "        print (\"Error in \\'\"+code+\"\\'\")\n",
    "    return df\n",
    "\n",
    "def get_dict_of_history(codes):\n",
    "    \n",
    "    all_data = dict()\n",
    "\n",
    "    for code in codes:\n",
    "        data = get_historical_data(code)\n",
    "        if len(data)>0:\n",
    "            #print(code, str(len(data)))\n",
    "            all_data[code] = data\n",
    "            print(\"#\", end=\"\")\n",
    "\n",
    "    print (\"END!!\")\n",
    "\n",
    "    return all_data"
   ]
  },
  {
   "cell_type": "code",
   "execution_count": 11,
   "metadata": {},
   "outputs": [
    {
     "name": "stdout",
     "output_type": "stream",
     "text": [
      "##Error in '005380.KS'\n",
      "#######Error in '055550.KS'\n",
      "Error in '012330.KS'\n",
      "Error in '015760.KS'\n",
      "####Error in '096770.KS'\n",
      "####Error in '006400.KS'\n",
      "######Error in '002790.KS'\n",
      "##Error in '010130.KS'\n",
      "#######Error in '021240.KS'\n",
      "##Error in '035250.KS'\n",
      "Error in '008930.KS'\n",
      "##########Error in '001040.KS'\n",
      "##################Error in '016360.KS'\n",
      "#Error in '011070.KS'\n",
      "###############Error in '006280.KS'\n",
      "###Error in '047040.KS'\n",
      "#Error in '000150.KS'\n",
      "####Error in '120110.KS'\n",
      "#Error in '010120.KS'\n",
      "#######Error in '003520.KS'\n",
      "#####Error in '012450.KS'\n",
      "##################Error in '285130.KS'\n",
      "Error in '005610.KS'\n",
      "###Error in '003000.KS'\n",
      "#####Error in '005300.KS'\n",
      "Error in '010780.KS'\n",
      "Error in '000070.KS'\n",
      "#Error in '170900.KS'\n",
      "#####Error in '145990.KS'\n",
      "##########Error in '025540.KS'\n",
      "#######Error in '079430.KS'\n",
      "#########Error in '006120.KS'\n",
      "#####Error in '078520.KS'\n",
      "#####END!!\n",
      "167\n"
     ]
    }
   ],
   "source": [
    "G_history_list = get_dict_of_history(G_code_list)\n",
    "print(len(G_history_list))\n",
    "\n",
    "pickle.dump(G_history_list, gzip.open(\"AE0_raw.pkl.gz\", \"wb\"))"
   ]
  },
  {
   "cell_type": "code",
   "execution_count": null,
   "metadata": {
    "collapsed": true
   },
   "outputs": [],
   "source": []
  }
 ],
 "metadata": {
  "kernelspec": {
   "display_name": "Python 3",
   "language": "python",
   "name": "python3"
  },
  "language_info": {
   "codemirror_mode": {
    "name": "ipython",
    "version": 3
   },
   "file_extension": ".py",
   "mimetype": "text/x-python",
   "name": "python",
   "nbconvert_exporter": "python",
   "pygments_lexer": "ipython3",
   "version": "3.6.3"
  }
 },
 "nbformat": 4,
 "nbformat_minor": 2
}
